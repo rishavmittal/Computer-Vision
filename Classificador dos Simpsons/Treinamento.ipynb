{
 "cells": [
  {
   "cell_type": "code",
   "execution_count": 43,
   "metadata": {},
   "outputs": [],
   "source": [
    "import numpy as np\n",
    "import pandas as pd\n",
    "from keras.models import Sequential\n",
    "from keras.layers import Conv2D, MaxPooling2D, Flatten, Dense\n",
    "from keras.preprocessing.image import ImageDataGenerator\n",
    "from keras.preprocessing import image"
   ]
  },
  {
   "cell_type": "code",
   "execution_count": 44,
   "metadata": {},
   "outputs": [],
   "source": [
    "model = Sequential() #Cria o construtor da rede neural\n",
    "model.add(Conv2D(32, (3, 3), input_shape = (64, 64, 3), activation = 'relu')) #Adiciona uma camada de 32 neuronios \n",
    "model.add(MaxPooling2D(pool_size = (2, 2))) #Diminiu o pooling, ou a matriz a ser analisada\n",
    "\n",
    "model.add(Conv2D(64, (3, 3), activation = 'relu')) #Adiciona uma camada de 64 neuronios\n",
    "model.add(MaxPooling2D(pool_size = (2, 2)))\n",
    "\n",
    "model.add(Conv2D(128, (3, 3), activation = 'relu')) #Adiciona uma camada de 128 neuronios\n",
    "model.add(MaxPooling2D(pool_size = (2, 2)))\n",
    "\n",
    "model.add(Flatten()) # \"Achata a entrada\" Multiplica os imput shape e \"cria um vetor\""
   ]
  },
  {
   "cell_type": "code",
   "execution_count": 45,
   "metadata": {},
   "outputs": [],
   "source": [
    "model.add(Dense(units = 64, activation = 'relu')) #Primeira camada de saída\n",
    "model.add(Dense(units = 30, activation = 'softmax')) #Camada de saída\n",
    "\n",
    "model.compile(optimizer = 'adam', loss = 'categorical_crossentropy', metrics = ['accuracy']) #Cria a rede neural"
   ]
  },
  {
   "cell_type": "code",
   "execution_count": 46,
   "metadata": {},
   "outputs": [],
   "source": [
    "data_train = ImageDataGenerator(rescale = 1./255,\n",
    "                                         rotation_range = 7, \n",
    "                                         horizontal_flip = True,\n",
    "                                         shear_range=0.2,\n",
    "                                         height_shift_range=0.07,\n",
    "                                         zoom_range=0.2) #Gera as imagens de entrada tratada\n",
    "\n",
    "data_test = ImageDataGenerator(rescale = 1./255) #Gera as imagens de teste"
   ]
  },
  {
   "cell_type": "code",
   "execution_count": 47,
   "metadata": {},
   "outputs": [
    {
     "name": "stdout",
     "output_type": "stream",
     "text": [
      "Found 20582 images belonging to 30 classes.\n",
      "Found 3667 images belonging to 30 classes.\n"
     ]
    }
   ],
   "source": [
    "base_train = data_train.flow_from_directory('simpsons_dataset',\n",
    "                                            target_size = (64, 64),\n",
    "                                            batch_size = 30,\n",
    "                                            class_mode = 'categorical') #Importa conjunto de imagens de treino, com pacotes de 30\n",
    "\n",
    "base_test = data_test.flow_from_directory('simpsons_testset',\n",
    "                                          target_size = (64, 64),\n",
    "                                          batch_size = 30,\n",
    "                                          class_mode = 'categorical') #Importa conjunto de imagens de teste, com pacotes de 30"
   ]
  },
  {
   "cell_type": "code",
   "execution_count": 48,
   "metadata": {},
   "outputs": [
    {
     "name": "stdout",
     "output_type": "stream",
     "text": [
      "Epoch 1/40\n",
      "90/90 [==============================] - 28s 307ms/step - loss: 3.0626 - acc: 0.1207 - val_loss: 2.6465 - val_acc: 0.5333\n",
      "Epoch 2/40\n",
      "90/90 [==============================] - 28s 312ms/step - loss: 2.7132 - acc: 0.2356 - val_loss: 2.6828 - val_acc: 0.3833\n",
      "Epoch 3/40\n",
      "90/90 [==============================] - 28s 310ms/step - loss: 2.3883 - acc: 0.3326 - val_loss: 2.6819 - val_acc: 0.3500\n",
      "Epoch 4/40\n",
      "90/90 [==============================] - 28s 309ms/step - loss: 2.2042 - acc: 0.3855 - val_loss: 2.5723 - val_acc: 0.4333\n",
      "Epoch 5/40\n",
      "90/90 [==============================] - 28s 309ms/step - loss: 2.0463 - acc: 0.4344 - val_loss: 2.5100 - val_acc: 0.4167\n",
      "Epoch 6/40\n",
      "90/90 [==============================] - 28s 313ms/step - loss: 1.8724 - acc: 0.4881 - val_loss: 2.3435 - val_acc: 0.4667\n",
      "Epoch 7/40\n",
      "90/90 [==============================] - 29s 325ms/step - loss: 1.8263 - acc: 0.4881 - val_loss: 2.3094 - val_acc: 0.4333\n",
      "Epoch 8/40\n",
      "90/90 [==============================] - 29s 318ms/step - loss: 1.6193 - acc: 0.5419 - val_loss: 2.0415 - val_acc: 0.5000\n",
      "Epoch 9/40\n",
      "90/90 [==============================] - 28s 314ms/step - loss: 1.5466 - acc: 0.5741 - val_loss: 2.0995 - val_acc: 0.4917\n",
      "Epoch 10/40\n",
      "90/90 [==============================] - 28s 312ms/step - loss: 1.4951 - acc: 0.5815 - val_loss: 1.7736 - val_acc: 0.5500\n",
      "Epoch 11/40\n",
      "90/90 [==============================] - 28s 312ms/step - loss: 1.4457 - acc: 0.5848 - val_loss: 1.9499 - val_acc: 0.5250\n",
      "Epoch 12/40\n",
      "90/90 [==============================] - 29s 317ms/step - loss: 1.3703 - acc: 0.6241 - val_loss: 1.7382 - val_acc: 0.5917\n",
      "Epoch 13/40\n",
      "90/90 [==============================] - 28s 309ms/step - loss: 1.3414 - acc: 0.6296 - val_loss: 1.8038 - val_acc: 0.5417\n",
      "Epoch 14/40\n",
      "90/90 [==============================] - 28s 313ms/step - loss: 1.2883 - acc: 0.6341 - val_loss: 1.5271 - val_acc: 0.6333\n",
      "Epoch 15/40\n",
      "90/90 [==============================] - 28s 314ms/step - loss: 1.1976 - acc: 0.6581 - val_loss: 1.6853 - val_acc: 0.6500\n",
      "Epoch 16/40\n",
      "90/90 [==============================] - 28s 313ms/step - loss: 1.1890 - acc: 0.6678 - val_loss: 1.5406 - val_acc: 0.6000\n",
      "Epoch 17/40\n",
      "90/90 [==============================] - 29s 326ms/step - loss: 1.0542 - acc: 0.7037 - val_loss: 1.3995 - val_acc: 0.6167\n",
      "Epoch 18/40\n",
      "90/90 [==============================] - 33s 367ms/step - loss: 1.0366 - acc: 0.7070 - val_loss: 1.4683 - val_acc: 0.6417\n",
      "Epoch 19/40\n",
      "90/90 [==============================] - 36s 404ms/step - loss: 1.0107 - acc: 0.7089 - val_loss: 1.4667 - val_acc: 0.6833\n",
      "Epoch 20/40\n",
      "90/90 [==============================] - 31s 349ms/step - loss: 1.0386 - acc: 0.7152 - val_loss: 1.3674 - val_acc: 0.6667\n",
      "Epoch 21/40\n",
      "90/90 [==============================] - 28s 311ms/step - loss: 1.0295 - acc: 0.7111 - val_loss: 1.4034 - val_acc: 0.6417\n",
      "Epoch 22/40\n",
      "90/90 [==============================] - 29s 320ms/step - loss: 0.9786 - acc: 0.7278 - val_loss: 1.3658 - val_acc: 0.6250\n",
      "Epoch 23/40\n",
      "90/90 [==============================] - 29s 317ms/step - loss: 0.9193 - acc: 0.7430 - val_loss: 1.4062 - val_acc: 0.6000\n",
      "Epoch 24/40\n",
      "90/90 [==============================] - 28s 315ms/step - loss: 0.8746 - acc: 0.7607 - val_loss: 1.1911 - val_acc: 0.6833\n",
      "Epoch 25/40\n",
      "90/90 [==============================] - 29s 328ms/step - loss: 0.8838 - acc: 0.7478 - val_loss: 1.1875 - val_acc: 0.6250\n",
      "Epoch 26/40\n",
      "90/90 [==============================] - 28s 312ms/step - loss: 0.8309 - acc: 0.7744 - val_loss: 1.0565 - val_acc: 0.7333\n",
      "Epoch 27/40\n",
      "90/90 [==============================] - 28s 310ms/step - loss: 0.7894 - acc: 0.7789 - val_loss: 1.3648 - val_acc: 0.6333\n",
      "Epoch 28/40\n",
      "90/90 [==============================] - 28s 315ms/step - loss: 0.8156 - acc: 0.7715 - val_loss: 1.0553 - val_acc: 0.7500\n",
      "Epoch 29/40\n",
      "90/90 [==============================] - 28s 314ms/step - loss: 0.7766 - acc: 0.7826 - val_loss: 0.9888 - val_acc: 0.7500\n",
      "Epoch 30/40\n",
      "90/90 [==============================] - 28s 313ms/step - loss: 0.7904 - acc: 0.7878 - val_loss: 1.0382 - val_acc: 0.7000\n",
      "Epoch 31/40\n",
      "90/90 [==============================] - 28s 313ms/step - loss: 0.7781 - acc: 0.7781 - val_loss: 1.1252 - val_acc: 0.7083\n",
      "Epoch 32/40\n",
      "90/90 [==============================] - 28s 316ms/step - loss: 0.7526 - acc: 0.7941 - val_loss: 1.0010 - val_acc: 0.7417\n",
      "Epoch 33/40\n",
      "90/90 [==============================] - 28s 316ms/step - loss: 0.6428 - acc: 0.8096 - val_loss: 0.9720 - val_acc: 0.7083\n",
      "Epoch 34/40\n",
      "90/90 [==============================] - 28s 313ms/step - loss: 0.6812 - acc: 0.8004 - val_loss: 0.9973 - val_acc: 0.7583\n",
      "Epoch 35/40\n",
      "90/90 [==============================] - 28s 313ms/step - loss: 0.7122 - acc: 0.8107 - val_loss: 1.0914 - val_acc: 0.7167\n",
      "Epoch 36/40\n",
      "90/90 [==============================] - 28s 315ms/step - loss: 0.7010 - acc: 0.7963 - val_loss: 0.9287 - val_acc: 0.7500\n",
      "Epoch 37/40\n",
      "90/90 [==============================] - 29s 318ms/step - loss: 0.6524 - acc: 0.8215 - val_loss: 1.1002 - val_acc: 0.6833\n",
      "Epoch 38/40\n",
      "90/90 [==============================] - 28s 314ms/step - loss: 0.6692 - acc: 0.8070 - val_loss: 0.8996 - val_acc: 0.7667\n",
      "Epoch 39/40\n",
      "90/90 [==============================] - 28s 314ms/step - loss: 0.6199 - acc: 0.8244 - val_loss: 0.9548 - val_acc: 0.7333\n",
      "Epoch 40/40\n",
      "90/90 [==============================] - 28s 312ms/step - loss: 0.6026 - acc: 0.8230 - val_loss: 0.7476 - val_acc: 0.8250\n"
     ]
    },
    {
     "data": {
      "text/plain": [
       "<keras.callbacks.History at 0x7fe5faff6898>"
      ]
     },
     "execution_count": 48,
     "metadata": {},
     "output_type": "execute_result"
    }
   ],
   "source": [
    "model.fit_generator(base_train,\n",
    "                    steps_per_epoch = 90,\n",
    "                    epochs = 40,\n",
    "                    validation_data = base_test,\n",
    "                    validation_steps = 4) #Coloca a rede pra treinar, com 90 passos por épocas ou\n",
    "                                          # \"90 comparações por época\" e com 40 épocas \"repetir 40 vezes\""
   ]
  },
  {
   "cell_type": "code",
   "execution_count": 50,
   "metadata": {},
   "outputs": [
    {
     "name": "stdout",
     "output_type": "stream",
     "text": [
      "[1. 0. 0. 0. 0. 0. 0. 0. 0. 0. 0. 0. 0. 0. 0. 0. 0. 0. 0. 0. 0. 0. 0. 0.\n",
      " 0. 0. 0. 0. 0. 0.]\n"
     ]
    }
   ],
   "source": [
    "result = []\n",
    "\n",
    "test_image = image.load_img('simpsons_testset/abraham_grampa_simpson/pic_0001.jpg', target_size=(64, 64))\n",
    "test_image = image.img_to_array(test_image)\n",
    "test_image = np.expand_dims(test_image, axis=0)\n",
    "\n",
    "pred = model.predict_on_batch(test_image)\n",
    "result.append(pred)\n",
    "\n",
    "result = np.asarray(result)\n",
    "imprime = np.array(result[0][0])\n",
    "print(imprime)"
   ]
  },
  {
   "cell_type": "code",
   "execution_count": 51,
   "metadata": {},
   "outputs": [],
   "source": [
    "model_json = model.to_json()"
   ]
  },
  {
   "cell_type": "code",
   "execution_count": 52,
   "metadata": {},
   "outputs": [],
   "source": [
    "with open('model_json.json', 'w') as json_file:\n",
    "    json_file.write(model_json)"
   ]
  },
  {
   "cell_type": "code",
   "execution_count": 54,
   "metadata": {},
   "outputs": [],
   "source": [
    "model.save_weights('model_simpsons.h5')"
   ]
  },
  {
   "cell_type": "code",
   "execution_count": null,
   "metadata": {},
   "outputs": [],
   "source": []
  }
 ],
 "metadata": {
  "kernelspec": {
   "display_name": "Python 3",
   "language": "python",
   "name": "python3"
  },
  "language_info": {
   "codemirror_mode": {
    "name": "ipython",
    "version": 3
   },
   "file_extension": ".py",
   "mimetype": "text/x-python",
   "name": "python",
   "nbconvert_exporter": "python",
   "pygments_lexer": "ipython3",
   "version": "3.5.2"
  }
 },
 "nbformat": 4,
 "nbformat_minor": 2
}
