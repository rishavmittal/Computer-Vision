{
 "cells": [
  {
   "cell_type": "code",
   "execution_count": 23,
   "metadata": {},
   "outputs": [],
   "source": [
    "import numpy as np\n",
    "import pandas as pd\n",
    "from keras.models import Sequential\n",
    "from keras.layers import Conv2D, MaxPooling2D, Flatten, Dense\n",
    "from keras.preprocessing.image import ImageDataGenerator\n",
    "from keras.preprocessing import image"
   ]
  },
  {
   "cell_type": "code",
   "execution_count": 12,
   "metadata": {},
   "outputs": [],
   "source": [
    "model = Sequential()\n",
    "model.add(Conv2D(32, (3, 3), input_shape = (64, 64, 3), activation = 'relu'))\n",
    "model.add(MaxPooling2D(pool_size = (2, 2)))\n",
    "\n",
    "model.add(Conv2D(64, (3, 3), activation = 'relu'))\n",
    "model.add(MaxPooling2D(pool_size = (2, 2)))\n",
    "\n",
    "model.add(Conv2D(64, (3, 3), activation = 'relu'))\n",
    "model.add(MaxPooling2D(pool_size = (2, 2)))\n",
    "\n",
    "model.add(Flatten())"
   ]
  },
  {
   "cell_type": "code",
   "execution_count": 13,
   "metadata": {},
   "outputs": [],
   "source": [
    "model.add(Dense(units = 32, activation = 'relu'))\n",
    "model.add(Dense(units = 10, activation = 'softmax'))\n",
    "\n",
    "model.compile(optimizer = 'adam', loss = 'categorical_crossentropy', metrics = ['accuracy'])"
   ]
  },
  {
   "cell_type": "code",
   "execution_count": 14,
   "metadata": {},
   "outputs": [],
   "source": [
    "data_train = ImageDataGenerator(rescale = 1./255,\n",
    "                                         rotation_range = 7, \n",
    "                                         horizontal_flip = True,\n",
    "                                         shear_range=0.2,\n",
    "                                         height_shift_range=0.07,\n",
    "                                         zoom_range=0.2)\n",
    "\n",
    "data_test = ImageDataGenerator(rescale = 1./255)"
   ]
  },
  {
   "cell_type": "code",
   "execution_count": 15,
   "metadata": {},
   "outputs": [
    {
     "name": "stdout",
     "output_type": "stream",
     "text": [
      "Found 1097 images belonging to 10 classes.\n",
      "Found 272 images belonging to 10 classes.\n"
     ]
    }
   ],
   "source": [
    "base_train = data_train.flow_from_directory('database/training_set',\n",
    "                                            target_size = (64, 64),\n",
    "                                            batch_size = 10,\n",
    "                                            class_mode = 'categorical')\n",
    "\n",
    "base_test = data_test.flow_from_directory('database/test_set',\n",
    "                                          target_size = (64, 64),\n",
    "                                          batch_size = 10,\n",
    "                                          class_mode = 'categorical')"
   ]
  },
  {
   "cell_type": "code",
   "execution_count": 16,
   "metadata": {},
   "outputs": [
    {
     "name": "stdout",
     "output_type": "stream",
     "text": [
      "Epoch 1/100\n",
      "16/16 [==============================] - 4s 270ms/step - loss: 2.3128 - acc: 0.1000 - val_loss: 2.3109 - val_acc: 0.0500\n",
      "Epoch 2/100\n",
      "16/16 [==============================] - 3s 209ms/step - loss: 2.2961 - acc: 0.1063 - val_loss: 2.3254 - val_acc: 0.0500\n",
      "Epoch 3/100\n",
      "16/16 [==============================] - 4s 257ms/step - loss: 2.2940 - acc: 0.1188 - val_loss: 2.3181 - val_acc: 0.0500\n",
      "Epoch 4/100\n",
      "16/16 [==============================] - 3s 200ms/step - loss: 2.2753 - acc: 0.1000 - val_loss: 2.2832 - val_acc: 0.1500\n",
      "Epoch 5/100\n",
      "16/16 [==============================] - 3s 203ms/step - loss: 2.2668 - acc: 0.1464 - val_loss: 2.4554 - val_acc: 0.0500\n",
      "Epoch 6/100\n",
      "16/16 [==============================] - 4s 243ms/step - loss: 2.2801 - acc: 0.1250 - val_loss: 2.2631 - val_acc: 0.2000\n",
      "Epoch 7/100\n",
      "16/16 [==============================] - 3s 210ms/step - loss: 2.2221 - acc: 0.2313 - val_loss: 2.2175 - val_acc: 0.2500\n",
      "Epoch 8/100\n",
      "16/16 [==============================] - 3s 170ms/step - loss: 2.0473 - acc: 0.2813 - val_loss: 2.1017 - val_acc: 0.2750\n",
      "Epoch 9/100\n",
      "16/16 [==============================] - 3s 188ms/step - loss: 2.0660 - acc: 0.1938 - val_loss: 1.9367 - val_acc: 0.3750\n",
      "Epoch 10/100\n",
      "16/16 [==============================] - 3s 196ms/step - loss: 1.9137 - acc: 0.3250 - val_loss: 1.8364 - val_acc: 0.3750\n",
      "Epoch 11/100\n",
      "16/16 [==============================] - 3s 216ms/step - loss: 1.8738 - acc: 0.3563 - val_loss: 1.8744 - val_acc: 0.3500\n",
      "Epoch 12/100\n",
      "16/16 [==============================] - 3s 205ms/step - loss: 1.8551 - acc: 0.3500 - val_loss: 1.9173 - val_acc: 0.4250\n",
      "Epoch 13/100\n",
      "16/16 [==============================] - 3s 167ms/step - loss: 1.8799 - acc: 0.3830 - val_loss: 1.7015 - val_acc: 0.3750\n",
      "Epoch 14/100\n",
      "16/16 [==============================] - 4s 271ms/step - loss: 1.7129 - acc: 0.3438 - val_loss: 1.5906 - val_acc: 0.5250\n",
      "Epoch 15/100\n",
      "16/16 [==============================] - 3s 183ms/step - loss: 1.5141 - acc: 0.4813 - val_loss: 1.5583 - val_acc: 0.6000\n",
      "Epoch 16/100\n",
      "16/16 [==============================] - 3s 218ms/step - loss: 1.7288 - acc: 0.3750 - val_loss: 1.4067 - val_acc: 0.5250\n",
      "Epoch 17/100\n",
      "16/16 [==============================] - 4s 220ms/step - loss: 1.4810 - acc: 0.4706 - val_loss: 1.4934 - val_acc: 0.5750\n",
      "Epoch 18/100\n",
      "16/16 [==============================] - 3s 185ms/step - loss: 1.5838 - acc: 0.4375 - val_loss: 1.5635 - val_acc: 0.5500\n",
      "Epoch 19/100\n",
      "16/16 [==============================] - 3s 204ms/step - loss: 1.4525 - acc: 0.5063 - val_loss: 1.3272 - val_acc: 0.6000\n",
      "Epoch 20/100\n",
      "16/16 [==============================] - 3s 181ms/step - loss: 1.3822 - acc: 0.5000 - val_loss: 1.4402 - val_acc: 0.6500\n",
      "Epoch 21/100\n",
      "16/16 [==============================] - 3s 212ms/step - loss: 1.4935 - acc: 0.5313 - val_loss: 1.4070 - val_acc: 0.5250\n",
      "Epoch 22/100\n",
      "16/16 [==============================] - 3s 199ms/step - loss: 1.3847 - acc: 0.5375 - val_loss: 1.6978 - val_acc: 0.4250\n",
      "Epoch 23/100\n",
      "16/16 [==============================] - 4s 237ms/step - loss: 1.4490 - acc: 0.4938 - val_loss: 1.5008 - val_acc: 0.5500\n",
      "Epoch 24/100\n",
      "16/16 [==============================] - 3s 190ms/step - loss: 1.3171 - acc: 0.5206 - val_loss: 1.5337 - val_acc: 0.7000\n",
      "Epoch 25/100\n",
      "16/16 [==============================] - 4s 227ms/step - loss: 1.2957 - acc: 0.5813 - val_loss: 1.5512 - val_acc: 0.5000\n",
      "Epoch 26/100\n",
      "16/16 [==============================] - 3s 207ms/step - loss: 1.5052 - acc: 0.5000 - val_loss: 1.4053 - val_acc: 0.5750\n",
      "Epoch 27/100\n",
      "16/16 [==============================] - 3s 203ms/step - loss: 1.4263 - acc: 0.5125 - val_loss: 1.3814 - val_acc: 0.6250\n",
      "Epoch 28/100\n",
      "16/16 [==============================] - 3s 179ms/step - loss: 1.3386 - acc: 0.5063 - val_loss: 1.4057 - val_acc: 0.4750\n",
      "Epoch 29/100\n",
      "16/16 [==============================] - 3s 200ms/step - loss: 1.3214 - acc: 0.4875 - val_loss: 1.1875 - val_acc: 0.6250\n",
      "Epoch 30/100\n",
      "16/16 [==============================] - 4s 249ms/step - loss: 1.2623 - acc: 0.5938 - val_loss: 1.1690 - val_acc: 0.7000\n",
      "Epoch 31/100\n",
      "16/16 [==============================] - 4s 238ms/step - loss: 1.4141 - acc: 0.5250 - val_loss: 1.1199 - val_acc: 0.5750\n",
      "Epoch 32/100\n",
      "16/16 [==============================] - 3s 210ms/step - loss: 1.2836 - acc: 0.5500 - val_loss: 1.1898 - val_acc: 0.6750\n",
      "Epoch 33/100\n",
      "16/16 [==============================] - 3s 184ms/step - loss: 1.2401 - acc: 0.5482 - val_loss: 1.1263 - val_acc: 0.6750\n",
      "Epoch 34/100\n",
      "16/16 [==============================] - 3s 198ms/step - loss: 1.0156 - acc: 0.6312 - val_loss: 1.0833 - val_acc: 0.7250\n",
      "Epoch 35/100\n",
      "16/16 [==============================] - 3s 172ms/step - loss: 1.1717 - acc: 0.5500 - val_loss: 1.1562 - val_acc: 0.6750\n",
      "Epoch 36/100\n",
      "16/16 [==============================] - 3s 190ms/step - loss: 1.3741 - acc: 0.5375 - val_loss: 1.2089 - val_acc: 0.6750\n",
      "Epoch 37/100\n",
      "16/16 [==============================] - 4s 228ms/step - loss: 1.2640 - acc: 0.5750 - val_loss: 1.1989 - val_acc: 0.5750\n",
      "Epoch 38/100\n",
      "16/16 [==============================] - 3s 203ms/step - loss: 1.1245 - acc: 0.5500 - val_loss: 1.1134 - val_acc: 0.6500\n",
      "Epoch 39/100\n",
      "16/16 [==============================] - 4s 221ms/step - loss: 1.1876 - acc: 0.6125 - val_loss: 1.0282 - val_acc: 0.6750\n",
      "Epoch 40/100\n",
      "16/16 [==============================] - 4s 251ms/step - loss: 1.1266 - acc: 0.6125 - val_loss: 1.0444 - val_acc: 0.7000\n",
      "Epoch 41/100\n",
      "16/16 [==============================] - 3s 172ms/step - loss: 1.0034 - acc: 0.6358 - val_loss: 1.0965 - val_acc: 0.6250\n",
      "Epoch 42/100\n",
      "16/16 [==============================] - 3s 208ms/step - loss: 1.1709 - acc: 0.5750 - val_loss: 0.9731 - val_acc: 0.7000\n",
      "Epoch 43/100\n",
      "16/16 [==============================] - 3s 207ms/step - loss: 1.0981 - acc: 0.5875 - val_loss: 1.0782 - val_acc: 0.6750\n",
      "Epoch 44/100\n",
      "16/16 [==============================] - 3s 210ms/step - loss: 0.9514 - acc: 0.6438 - val_loss: 1.0383 - val_acc: 0.7750\n",
      "Epoch 45/100\n",
      "16/16 [==============================] - 3s 190ms/step - loss: 1.1636 - acc: 0.5394 - val_loss: 1.0804 - val_acc: 0.5500\n",
      "Epoch 46/100\n",
      "16/16 [==============================] - 3s 212ms/step - loss: 1.0037 - acc: 0.6375 - val_loss: 1.0074 - val_acc: 0.8000\n",
      "Epoch 47/100\n",
      "16/16 [==============================] - 3s 193ms/step - loss: 1.0201 - acc: 0.6500 - val_loss: 0.9591 - val_acc: 0.7750\n",
      "Epoch 48/100\n",
      "16/16 [==============================] - 4s 221ms/step - loss: 1.0671 - acc: 0.6063 - val_loss: 0.8704 - val_acc: 0.7250\n",
      "Epoch 49/100\n",
      "16/16 [==============================] - 3s 217ms/step - loss: 1.0980 - acc: 0.6000 - val_loss: 0.9488 - val_acc: 0.7000\n",
      "Epoch 50/100\n",
      "16/16 [==============================] - 3s 187ms/step - loss: 1.0908 - acc: 0.6295 - val_loss: 0.9250 - val_acc: 0.7250\n",
      "Epoch 51/100\n",
      "16/16 [==============================] - 4s 221ms/step - loss: 0.8578 - acc: 0.7125 - val_loss: 0.8378 - val_acc: 0.8250\n",
      "Epoch 52/100\n",
      "16/16 [==============================] - 3s 214ms/step - loss: 1.0003 - acc: 0.6500 - val_loss: 1.1054 - val_acc: 0.7000\n",
      "Epoch 53/100\n",
      "16/16 [==============================] - 3s 198ms/step - loss: 1.2093 - acc: 0.5750 - val_loss: 0.8347 - val_acc: 0.7000\n",
      "Epoch 54/100\n",
      "16/16 [==============================] - 3s 197ms/step - loss: 1.1412 - acc: 0.6563 - val_loss: 1.1358 - val_acc: 0.6500\n",
      "Epoch 55/100\n",
      "16/16 [==============================] - 4s 243ms/step - loss: 0.9992 - acc: 0.6375 - val_loss: 0.9303 - val_acc: 0.7250\n",
      "Epoch 56/100\n",
      "16/16 [==============================] - 4s 223ms/step - loss: 0.8938 - acc: 0.6875 - val_loss: 0.8702 - val_acc: 0.7750\n",
      "Epoch 57/100\n",
      "16/16 [==============================] - 3s 191ms/step - loss: 0.9571 - acc: 0.7000 - val_loss: 0.7853 - val_acc: 0.7250\n",
      "Epoch 58/100\n",
      "16/16 [==============================] - 4s 232ms/step - loss: 0.9869 - acc: 0.6758 - val_loss: 0.9505 - val_acc: 0.7500\n",
      "Epoch 59/100\n",
      "16/16 [==============================] - 3s 182ms/step - loss: 1.0302 - acc: 0.6312 - val_loss: 0.8737 - val_acc: 0.7500\n",
      "Epoch 60/100\n",
      "16/16 [==============================] - 4s 242ms/step - loss: 1.0239 - acc: 0.6500 - val_loss: 0.8032 - val_acc: 0.8000\n",
      "Epoch 61/100\n",
      "16/16 [==============================] - 3s 195ms/step - loss: 0.9284 - acc: 0.7062 - val_loss: 1.0322 - val_acc: 0.6000\n",
      "Epoch 62/100\n"
     ]
    },
    {
     "name": "stdout",
     "output_type": "stream",
     "text": [
      "16/16 [==============================] - 3s 188ms/step - loss: 1.0260 - acc: 0.6375 - val_loss: 1.3397 - val_acc: 0.5250\n",
      "Epoch 63/100\n",
      "16/16 [==============================] - 3s 215ms/step - loss: 0.9838 - acc: 0.6875 - val_loss: 0.9080 - val_acc: 0.7250\n",
      "Epoch 64/100\n",
      "16/16 [==============================] - 3s 211ms/step - loss: 0.9017 - acc: 0.6625 - val_loss: 0.9459 - val_acc: 0.7000\n",
      "Epoch 65/100\n",
      "16/16 [==============================] - 3s 205ms/step - loss: 0.9973 - acc: 0.6125 - val_loss: 0.9431 - val_acc: 0.7000\n",
      "Epoch 66/100\n",
      "16/16 [==============================] - 3s 200ms/step - loss: 0.9624 - acc: 0.6563 - val_loss: 0.8960 - val_acc: 0.8000\n",
      "Epoch 67/100\n",
      "16/16 [==============================] - 3s 183ms/step - loss: 0.7827 - acc: 0.6813 - val_loss: 0.7983 - val_acc: 0.8250\n",
      "Epoch 68/100\n",
      "16/16 [==============================] - 4s 221ms/step - loss: 0.9435 - acc: 0.6608 - val_loss: 0.6607 - val_acc: 0.8250\n",
      "Epoch 69/100\n",
      "16/16 [==============================] - 3s 191ms/step - loss: 0.9047 - acc: 0.6875 - val_loss: 1.0746 - val_acc: 0.6250\n",
      "Epoch 70/100\n",
      "16/16 [==============================] - 3s 212ms/step - loss: 0.8273 - acc: 0.7609 - val_loss: 0.7422 - val_acc: 0.7250\n",
      "Epoch 71/100\n",
      "16/16 [==============================] - 3s 213ms/step - loss: 0.7942 - acc: 0.7750 - val_loss: 0.7993 - val_acc: 0.7500\n",
      "Epoch 72/100\n",
      "16/16 [==============================] - 3s 193ms/step - loss: 0.9303 - acc: 0.6625 - val_loss: 1.0166 - val_acc: 0.7750\n",
      "Epoch 73/100\n",
      "16/16 [==============================] - 3s 190ms/step - loss: 0.8669 - acc: 0.6813 - val_loss: 0.7571 - val_acc: 0.7750\n",
      "Epoch 74/100\n",
      "16/16 [==============================] - 3s 194ms/step - loss: 1.1144 - acc: 0.6125 - val_loss: 0.9726 - val_acc: 0.7500\n",
      "Epoch 75/100\n",
      "16/16 [==============================] - 3s 201ms/step - loss: 0.9764 - acc: 0.6563 - val_loss: 0.7860 - val_acc: 0.8000\n",
      "Epoch 76/100\n",
      "16/16 [==============================] - 3s 209ms/step - loss: 0.9288 - acc: 0.6125 - val_loss: 0.6537 - val_acc: 0.8250\n",
      "Epoch 77/100\n",
      "16/16 [==============================] - 2s 154ms/step - loss: 0.9355 - acc: 0.7000 - val_loss: 0.7126 - val_acc: 0.7500\n",
      "Epoch 78/100\n",
      "16/16 [==============================] - 4s 223ms/step - loss: 0.7124 - acc: 0.7688 - val_loss: 0.7152 - val_acc: 0.7750\n",
      "Epoch 79/100\n",
      "16/16 [==============================] - 3s 217ms/step - loss: 0.6642 - acc: 0.8062 - val_loss: 0.7569 - val_acc: 0.8000\n",
      "Epoch 80/100\n",
      "16/16 [==============================] - 4s 224ms/step - loss: 0.7658 - acc: 0.7547 - val_loss: 0.7863 - val_acc: 0.7750\n",
      "Epoch 81/100\n",
      "16/16 [==============================] - 3s 216ms/step - loss: 0.8938 - acc: 0.7187 - val_loss: 0.8709 - val_acc: 0.7000\n",
      "Epoch 82/100\n",
      "16/16 [==============================] - 3s 197ms/step - loss: 0.9162 - acc: 0.7125 - val_loss: 1.0588 - val_acc: 0.7000\n",
      "Epoch 83/100\n",
      "16/16 [==============================] - 4s 229ms/step - loss: 0.9966 - acc: 0.6625 - val_loss: 0.8317 - val_acc: 0.7750\n",
      "Epoch 84/100\n",
      "16/16 [==============================] - 3s 217ms/step - loss: 0.7844 - acc: 0.7312 - val_loss: 0.6186 - val_acc: 0.8250\n",
      "Epoch 85/100\n",
      "16/16 [==============================] - 3s 206ms/step - loss: 0.7057 - acc: 0.7750 - val_loss: 0.7028 - val_acc: 0.7750\n",
      "Epoch 86/100\n",
      "16/16 [==============================] - 3s 184ms/step - loss: 0.7427 - acc: 0.7563 - val_loss: 0.7532 - val_acc: 0.6750\n",
      "Epoch 87/100\n",
      "16/16 [==============================] - 3s 184ms/step - loss: 0.8308 - acc: 0.6938 - val_loss: 0.6858 - val_acc: 0.7750\n",
      "Epoch 88/100\n",
      "16/16 [==============================] - 3s 203ms/step - loss: 0.6514 - acc: 0.7812 - val_loss: 0.6027 - val_acc: 0.8750\n",
      "Epoch 89/100\n",
      "16/16 [==============================] - 3s 204ms/step - loss: 0.8669 - acc: 0.6813 - val_loss: 1.0165 - val_acc: 0.5500\n",
      "Epoch 90/100\n",
      "16/16 [==============================] - 3s 196ms/step - loss: 0.8029 - acc: 0.7384 - val_loss: 0.7602 - val_acc: 0.7000\n",
      "Epoch 91/100\n",
      "16/16 [==============================] - 3s 199ms/step - loss: 0.7775 - acc: 0.7375 - val_loss: 0.6636 - val_acc: 0.8000\n",
      "Epoch 92/100\n",
      "16/16 [==============================] - 3s 217ms/step - loss: 0.7404 - acc: 0.7259 - val_loss: 0.6980 - val_acc: 0.7750\n",
      "Epoch 93/100\n",
      "16/16 [==============================] - 4s 236ms/step - loss: 0.8297 - acc: 0.7000 - val_loss: 1.0231 - val_acc: 0.6250\n",
      "Epoch 94/100\n",
      "16/16 [==============================] - 3s 201ms/step - loss: 0.7312 - acc: 0.7562 - val_loss: 0.6017 - val_acc: 0.8250\n",
      "Epoch 95/100\n",
      "16/16 [==============================] - 3s 177ms/step - loss: 0.7407 - acc: 0.7563 - val_loss: 0.5729 - val_acc: 0.8750\n",
      "Epoch 96/100\n",
      "16/16 [==============================] - 4s 242ms/step - loss: 0.8089 - acc: 0.7500 - val_loss: 0.6842 - val_acc: 0.8250\n",
      "Epoch 97/100\n",
      "16/16 [==============================] - 4s 237ms/step - loss: 0.6633 - acc: 0.7438 - val_loss: 0.6539 - val_acc: 0.7500\n",
      "Epoch 98/100\n",
      "16/16 [==============================] - 3s 219ms/step - loss: 0.7794 - acc: 0.7625 - val_loss: 0.6757 - val_acc: 0.8000\n",
      "Epoch 99/100\n",
      "16/16 [==============================] - 4s 222ms/step - loss: 0.7255 - acc: 0.7947 - val_loss: 0.6620 - val_acc: 0.7500\n",
      "Epoch 100/100\n",
      "16/16 [==============================] - 3s 199ms/step - loss: 0.7099 - acc: 0.7312 - val_loss: 0.6802 - val_acc: 0.7750\n"
     ]
    },
    {
     "data": {
      "text/plain": [
       "<keras.callbacks.History at 0x7f980248bf28>"
      ]
     },
     "execution_count": 16,
     "metadata": {},
     "output_type": "execute_result"
    }
   ],
   "source": [
    "model.fit_generator(base_train,\n",
    "                    steps_per_epoch = 16,\n",
    "                    epochs = 100,\n",
    "                    validation_data = base_test,\n",
    "                    validation_steps = 4)"
   ]
  },
  {
   "cell_type": "code",
   "execution_count": 22,
   "metadata": {},
   "outputs": [
    {
     "data": {
      "text/plain": [
       "array([[[0., 0., 0., 0., 0., 0., 0., 0., 0., 1.]]], dtype=float32)"
      ]
     },
     "execution_count": 22,
     "metadata": {},
     "output_type": "execute_result"
    }
   ],
   "source": [
    "result = []\n",
    "\n",
    "test_image = image.load_img('database/test_set/n9/n910.jpg', target_size=(64, 64))\n",
    "test_image = image.img_to_array(test_image)\n",
    "test_image = np.expand_dims(test_image, axis=0)\n",
    "\n",
    "pred = model.predict_on_batch(test_image)\n",
    "result.append(pred)\n",
    "\n",
    "result = np.asarray(result)\n",
    "result"
   ]
  },
  {
   "cell_type": "code",
   "execution_count": 26,
   "metadata": {},
   "outputs": [],
   "source": [
    "model_json = model.to_json()"
   ]
  },
  {
   "cell_type": "code",
   "execution_count": 27,
   "metadata": {},
   "outputs": [],
   "source": [
    "with open('model_json.json', 'w') as json_file:\n",
    "    json_file.write(model_json)"
   ]
  },
  {
   "cell_type": "code",
   "execution_count": 29,
   "metadata": {},
   "outputs": [],
   "source": [
    "model.save_weights('model_macacos.h5')"
   ]
  },
  {
   "cell_type": "code",
   "execution_count": null,
   "metadata": {},
   "outputs": [],
   "source": []
  }
 ],
 "metadata": {
  "kernelspec": {
   "display_name": "Python 3",
   "language": "python",
   "name": "python3"
  },
  "language_info": {
   "codemirror_mode": {
    "name": "ipython",
    "version": 3
   },
   "file_extension": ".py",
   "mimetype": "text/x-python",
   "name": "python",
   "nbconvert_exporter": "python",
   "pygments_lexer": "ipython3",
   "version": "3.5.2"
  }
 },
 "nbformat": 4,
 "nbformat_minor": 2
}
