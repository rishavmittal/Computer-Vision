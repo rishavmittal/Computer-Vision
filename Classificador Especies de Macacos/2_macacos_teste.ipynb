{
 "cells": [
  {
   "cell_type": "code",
   "execution_count": 8,
   "metadata": {},
   "outputs": [],
   "source": [
    "import numpy as np\n",
    "import pandas as pd\n",
    "from keras.models import model_from_json\n",
    "from keras.preprocessing import image"
   ]
  },
  {
   "cell_type": "code",
   "execution_count": 3,
   "metadata": {},
   "outputs": [],
   "source": [
    "arquivo = open('model_json.json', 'r')\n",
    "estrutura_rede = arquivo.read()\n",
    "arquivo.close()"
   ]
  },
  {
   "cell_type": "code",
   "execution_count": 6,
   "metadata": {},
   "outputs": [],
   "source": [
    "model = model_from_json(estrutura_rede)\n",
    "model.load_weights('model_macacos.h5')"
   ]
  },
  {
   "cell_type": "code",
   "execution_count": 91,
   "metadata": {},
   "outputs": [],
   "source": [
    "result = []\n",
    "\n",
    "test_image = image.load_img('database/teste/erythrocebus_patas.jpg', target_size=(64, 64))\n",
    "test_image = image.img_to_array(test_image)\n",
    "test_image = np.expand_dims(test_image, axis=0)\n",
    "\n",
    "pred = model.predict_on_batch(test_image)\n",
    "result.append(pred)\n",
    "\n",
    "result = np.asarray(result)\n",
    "imprime = np.array(result[0][0])\n",
    "#print(imprime)"
   ]
  },
  {
   "cell_type": "code",
   "execution_count": 92,
   "metadata": {},
   "outputs": [
    {
     "name": "stdout",
     "output_type": "stream",
     "text": [
      "Erythrocebus patas\n"
     ]
    }
   ],
   "source": [
    "if imprime[0] == 1:\n",
    "    print('Alouatta palliata')\n",
    "elif imprime[1] == 1:\n",
    "    print('Erythrocebus patas')\n",
    "elif imprime[2] == 1:\n",
    "    print('Cacajao calvus')\n",
    "elif imprime[3] == 1:\n",
    "    print('Macaco-japonês')\n",
    "elif imprime[4] == 1:\n",
    "    print('Cebuella pygmaea')\n",
    "elif imprime[5] == 1:\n",
    "    print('Cebus capucinus')\n",
    "elif imprime[6] == 1:\n",
    "    print('Mico argentatus')\n",
    "elif imprime[7] == 1:\n",
    "    print('saimiri_sciureus')\n",
    "elif imprime[8] == 1:\n",
    "    print('Aotus nigriceps')\n",
    "elif imprime[9] == 1:\n",
    "    print('Trachypithecus johnii')\n",
    "else:\n",
    "    print('Especia não classificada')"
   ]
  },
  {
   "cell_type": "code",
   "execution_count": null,
   "metadata": {},
   "outputs": [],
   "source": []
  }
 ],
 "metadata": {
  "kernelspec": {
   "display_name": "Python 3",
   "language": "python",
   "name": "python3"
  },
  "language_info": {
   "codemirror_mode": {
    "name": "ipython",
    "version": 3
   },
   "file_extension": ".py",
   "mimetype": "text/x-python",
   "name": "python",
   "nbconvert_exporter": "python",
   "pygments_lexer": "ipython3",
   "version": "3.5.2"
  }
 },
 "nbformat": 4,
 "nbformat_minor": 2
}
